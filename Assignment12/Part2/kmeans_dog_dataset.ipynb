{
  "nbformat": 4,
  "nbformat_minor": 0,
  "metadata": {
    "colab": {
      "name": "kmeans_dog_dataset.ipynb",
      "provenance": [],
      "collapsed_sections": [],
      "authorship_tag": "ABX9TyNVOq8ZLdL4yTVzRQmek7ot",
      "include_colab_link": true
    },
    "kernelspec": {
      "name": "python3",
      "display_name": "Python 3"
    }
  },
  "cells": [
    {
      "cell_type": "markdown",
      "metadata": {
        "id": "view-in-github",
        "colab_type": "text"
      },
      "source": [
        "<a href=\"https://colab.research.google.com/github/nravinuthala/EVA4.0/blob/master/Assignment12/Part2/kmeans_dog_dataset.ipynb\" target=\"_parent\"><img src=\"https://colab.research.google.com/assets/colab-badge.svg\" alt=\"Open In Colab\"/></a>"
      ]
    },
    {
      "cell_type": "code",
      "metadata": {
        "id": "ysrhPPH7IbLi",
        "colab_type": "code",
        "outputId": "89c73b9f-19c3-4b00-f688-8d3301c2e609",
        "colab": {
          "base_uri": "https://localhost:8080/",
          "height": 34
        }
      },
      "source": [
        "from google.colab import drive\n",
        "drive.mount('/content/gdrive')"
      ],
      "execution_count": 0,
      "outputs": [
        {
          "output_type": "stream",
          "text": [
            "Drive already mounted at /content/gdrive; to attempt to forcibly remount, call drive.mount(\"/content/gdrive\", force_remount=True).\n"
          ],
          "name": "stdout"
        }
      ]
    },
    {
      "cell_type": "code",
      "metadata": {
        "id": "JUa92C7HPK3X",
        "colab_type": "code",
        "outputId": "ce422c82-ba1b-4919-d843-247b78a90f9d",
        "colab": {
          "base_uri": "https://localhost:8080/",
          "height": 54
        }
      },
      "source": [
        "from os import listdir\n",
        "from PIL import Image as PImage\n",
        "\n",
        "def loadImages(path):\n",
        "  imagesList = listdir(path)\n",
        "  images = []\n",
        "  for image in imagesList:\n",
        "    img = PImage.open(path + image)\n",
        "    images.append(img)\n",
        "  return images\n",
        "\n",
        "image_folder_path = \"/content/gdrive/My Drive/Colab Notebooks/EVA4.0/Phase1/Session12/part2/dog_dataset/\"\n",
        "images = loadImages(image_folder_path)\n",
        "image_names = []\n",
        "map_img_size = {}\n",
        "for image in images:\n",
        "  image_height, image_width = image.size\n",
        "  image_name = image.filename.split('/')[10]\n",
        "  image_names.append(image_name)\n",
        "  map_img_size[image_name] = (image_width, image_height)\n",
        "print(map_img_size)"
      ],
      "execution_count": 0,
      "outputs": [
        {
          "output_type": "stream",
          "text": [
            "{'dog19.jpg': (183, 275), 'dog50.jpg': (172, 293), 'dog45.jpg': (168, 299), 'dog47.jpg': (186, 271), 'dog40.jpg': (168, 299), 'dog46.jpg': (168, 299), 'dog41.jpg': (275, 183), 'dog43.jpg': (164, 308), 'dog42.jpg': (183, 275), 'dog44.jpg': (183, 275), 'dog48.jpg': (175, 287), 'dog15.jpg': (183, 275), 'dog16.jpg': (183, 275), 'dog28.jpg': (168, 300), 'dog17.jpg': (225, 225), 'dog01.jpg': (123, 164), 'dog14.jpg': (168, 300), 'dog29.jpg': (198, 255), 'dog49.jpg': (180, 281), 'dog03.jpg': (123, 185), 'dog02.jpg': (123, 185), 'dog05.jpg': (123, 172), 'dog12.jpg': (122, 183), 'dog06.jpg': (123, 184), 'dog07.jpg': (123, 185), 'dog10.jpg': (122, 170), 'dog39.jpg': (183, 275), 'dog04.jpg': (123, 194), 'dog13.jpg': (187, 269), 'dog11.jpg': (122, 161), 'dog38.jpg': (185, 272), 'dog35.jpg': (163, 310), 'dog22.jpg': (168, 300), 'dog37.jpg': (183, 275), 'dog21.jpg': (168, 300), 'dog34.jpg': (224, 225), 'dog36.jpg': (156, 322), 'dog08.jpg': (123, 181), 'dog09.jpg': (122, 183), 'dog20.jpg': (168, 300), 'dog23.jpg': (225, 224), 'dog27.jpg': (168, 300), 'dog25.jpg': (174, 290), 'dog30.jpg': (183, 275), 'dog33.jpg': (168, 300), 'dog32.jpg': (164, 308), 'dog24.jpg': (168, 300), 'dog31.jpg': (194, 259), 'dog18.jpg': (163, 310), 'dog26.jpg': (168, 300)}\n"
          ],
          "name": "stdout"
        }
      ]
    },
    {
      "cell_type": "code",
      "metadata": {
        "id": "nxH0F4MgW3O2",
        "colab_type": "code",
        "outputId": "0f866979-ef05-45c8-f365-30ee8a6bff23",
        "colab": {
          "base_uri": "https://localhost:8080/",
          "height": 121
        }
      },
      "source": [
        "nc_x_bbox = []\n",
        "nc_y_bbox = []\n",
        "\n",
        "n_w_bbox = []\n",
        "n_h_bbox = []\n",
        "\n",
        "for i in range(50):\n",
        "  shape_attributes_dict = shape_attributes[i][0]\n",
        "  shape_x = shape_attributes_dict['shape_attributes']['x']\n",
        "  shape_y = shape_attributes_dict['shape_attributes']['y']\n",
        "  shape_width = shape_attributes_dict['shape_attributes']['width']\n",
        "  shape_height = shape_attributes_dict['shape_attributes']['height']\n",
        "  image_name = image_names[i]\n",
        "\n",
        "  n_shape_x = shape_x/map_img_size[image_name][1]\n",
        "  n_shape_y = shape_y/map_img_size[image_name][0]\n",
        "  n_shape_width = shape_width / map_img_size[image_name][1]\n",
        "  n_shape_height = shape_height / map_img_size[image_name][0]\n",
        "\n",
        "  n_w_bbox.append(n_shape_width)\n",
        "  n_h_bbox.append(n_shape_height)\n",
        "\n",
        "  nc_x_bbox.append(n_shape_x + (n_shape_width/2))\n",
        "  nc_y_bbox.append(n_shape_y + (n_shape_height/2))\n",
        "\n",
        "print(\"Normalized:Centroids:X,Y Lists\")\n",
        "\n",
        "print(nc_x_bbox[:2])\n",
        "print(nc_y_bbox[:2]) \n",
        "print(\"Normalized::Width,Height Lists\")\n",
        "\n",
        "print(n_w_bbox[:2])\n",
        "print(n_h_bbox[:2])"
      ],
      "execution_count": 0,
      "outputs": [
        {
          "output_type": "stream",
          "text": [
            "Normalized:Centroids:X,Y Lists\n",
            "[0.23454545454545456, 0.31399317406143346]\n",
            "[0.360655737704918, 0.3313953488372093]\n",
            "Normalized::Width,Height Lists\n",
            "[0.14181818181818182, 0.621160409556314]\n",
            "[0.3825136612021858, 0.4883720930232558]\n"
          ],
          "name": "stdout"
        }
      ]
    },
    {
      "cell_type": "code",
      "metadata": {
        "id": "tq-BZxdkc57X",
        "colab_type": "code",
        "outputId": "ebe007c1-51a9-4c2f-a3e8-533dc0e08079",
        "colab": {
          "base_uri": "https://localhost:8080/",
          "height": 369
        }
      },
      "source": [
        "import pandas as pd\n",
        "from matplotlib import pyplot as plt\n",
        "df1 = pd.DataFrame({\n",
        "    'x': n_w_bbox,\n",
        "    'y': n_h_bbox\n",
        "})\n",
        "\n",
        "from sklearn.cluster import KMeans\n",
        "\n",
        "kmeans = KMeans(n_clusters=5)\n",
        "kmeans.fit(df1)\n",
        "print(\"Cluster Centers:\",kmeans.cluster_centers_)\n",
        "\n",
        "plt.scatter(n_w_bbox,n_h_bbox, c=kmeans.labels_, cmap='rainbow')\n",
        "plt.scatter(kmeans.cluster_centers_[:,0] ,kmeans.cluster_centers_[:,1], color='black')"
      ],
      "execution_count": 0,
      "outputs": [
        {
          "output_type": "stream",
          "text": [
            "Cluster Centers: [[0.37833322 0.54605346]\n",
            " [0.7594709  0.90200476]\n",
            " [1.3015715  1.32372607]\n",
            " [0.42947663 1.13547349]\n",
            " [1.02151559 0.60655217]]\n"
          ],
          "name": "stdout"
        },
        {
          "output_type": "execute_result",
          "data": {
            "text/plain": [
              "<matplotlib.collections.PathCollection at 0x7f0c8ddc2128>"
            ]
          },
          "metadata": {
            "tags": []
          },
          "execution_count": 81
        },
        {
          "output_type": "display_data",
          "data": {
            "image/png": "[encoded data removed]",
            "text/plain": [
              "<Figure size 432x288 with 1 Axes>"
            ]
          },
          "metadata": {
            "tags": [],
            "needs_background": "light"
          }
        }
      ]
    },
    {
      "cell_type": "code",
      "metadata": {
        "id": "0Vi_xSQ6ffqG",
        "colab_type": "code",
        "colab": {}
      },
      "source": [
        "import numpy as np\n",
        "from scipy.spatial.distance import cdist \n",
        "distortions = [] \n",
        "inertias = [] \n",
        "mapping1 = {} \n",
        "mapping2 = {} \n",
        "K = range(1,10) \n",
        "X = np.array(list(zip(n_w_bbox, n_h_bbox))).reshape(len(n_w_bbox), 2)   \n",
        "for k in K: \n",
        "    #Building and fitting the model \n",
        "    kmeanModel = KMeans(n_clusters=k).fit(X) \n",
        "    kmeanModel.fit(X)     \n",
        "      \n",
        "    distortions.append(sum(np.min(cdist(X, kmeanModel.cluster_centers_, \n",
        "                      'euclidean'),axis=1)) / X.shape[0]) \n",
        "    inertias.append(kmeanModel.inertia_) \n",
        "  \n",
        "    mapping1[k] = sum(np.min(cdist(X, kmeanModel.cluster_centers_, \n",
        "                 'euclidean'),axis=1)) / X.shape[0] \n",
        "    mapping2[k] = kmeanModel.inertia_"
      ],
      "execution_count": 0,
      "outputs": []
    },
    {
      "cell_type": "code",
      "metadata": {
        "id": "VmO2EChpfw6I",
        "colab_type": "code",
        "outputId": "6719a983-3e86-4335-e2aa-387a3a58d62a",
        "colab": {
          "base_uri": "https://localhost:8080/",
          "height": 295
        }
      },
      "source": [
        "plt.plot(K, inertias, 'bx-') \n",
        "plt.xlabel('K - value') \n",
        "plt.ylabel('Inertia value') \n",
        "plt.title('The Elbow Method: using Inertia') \n",
        "plt.show()"
      ],
      "execution_count": 86,
      "outputs": [
        {
          "output_type": "display_data",
          "data": {
            "image/png": "[encoded data removed]",
            "text/plain": [
              "<Figure size 432x288 with 1 Axes>"
            ]
          },
          "metadata": {
            "tags": [],
            "needs_background": "light"
          }
        }
      ]
    },
    {
      "cell_type": "code",
      "metadata": {
        "id": "eeybT1sRgMvQ",
        "colab_type": "code",
        "outputId": "d530d863-d738-4844-9504-c75072710f7f",
        "colab": {
          "base_uri": "https://localhost:8080/",
          "height": 352
        }
      },
      "source": [
        "import pandas as pd\n",
        "from matplotlib import pyplot as plt\n",
        "df1 = pd.DataFrame({\n",
        "    'x': n_w_bbox,\n",
        "    'y': n_h_bbox\n",
        "})\n",
        "\n",
        "from sklearn.cluster import KMeans\n",
        "\n",
        "kmeans = KMeans(n_clusters=4)\n",
        "kmeans.fit(df1)\n",
        "print(\"Cluster Centers:\",kmeans.cluster_centers_)\n",
        "\n",
        "plt.scatter(n_w_bbox,n_h_bbox, c=kmeans.labels_, cmap='rainbow')\n",
        "plt.scatter(kmeans.cluster_centers_[:,0] ,kmeans.cluster_centers_[:,1], color='black')"
      ],
      "execution_count": 0,
      "outputs": [
        {
          "output_type": "stream",
          "text": [
            "Cluster Centers: [[0.86625132 0.83267286]\n",
            " [0.48944656 1.04398487]\n",
            " [0.37833322 0.54605346]\n",
            " [1.3015715  1.32372607]]\n"
          ],
          "name": "stdout"
        },
        {
          "output_type": "execute_result",
          "data": {
            "text/plain": [
              "<matplotlib.collections.PathCollection at 0x7f0c8e2c1780>"
            ]
          },
          "metadata": {
            "tags": []
          },
          "execution_count": 85
        },
        {
          "output_type": "display_data",
          "data": {
            "image/png": "[encoded data removed]",
            "text/plain": [
              "<Figure size 432x288 with 1 Axes>"
            ]
          },
          "metadata": {
            "tags": [],
            "needs_background": "light"
          }
        }
      ]
    }
  ]
}